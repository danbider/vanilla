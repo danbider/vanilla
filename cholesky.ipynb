{
 "cells": [
  {
   "cell_type": "code",
   "execution_count": 26,
   "metadata": {},
   "outputs": [],
   "source": [
    "import numpy as np\n",
    "import matplotlib.pyplot as plt"
   ]
  },
  {
   "cell_type": "code",
   "execution_count": 27,
   "metadata": {},
   "outputs": [],
   "source": [
    "# cholesky decomposition, naive implementation\n",
    "def cholesky(A):\n",
    "    n = A.shape[0]\n",
    "    L = np.zeros(A.shape)\n",
    "    for j in range(n): # loop over columns\n",
    "        v_j_to_n = np.copy(A[j:, j]) # vector from j-th element to the end, size n-j\n",
    "        for k in range(j):\n",
    "            v_j_to_n -= L[j, k] * L[j:, k] # n-j vectors\n",
    "        L[j:n, j] = v_j_to_n / np.sqrt(v_j_to_n[0])\n",
    "    return L"
   ]
  },
  {
   "cell_type": "code",
   "execution_count": 28,
   "metadata": {},
   "outputs": [
    {
     "data": {
      "text/plain": [
       "<matplotlib.image.AxesImage at 0x7ffdb8d634f0>"
      ]
     },
     "execution_count": 28,
     "metadata": {},
     "output_type": "execute_result"
    },
    {
     "data": {
      "image/png": "[encoded data removed]",
      "text/plain": [
       "<Figure size 640x480 with 1 Axes>"
      ]
     },
     "metadata": {},
     "output_type": "display_data"
    }
   ],
   "source": [
    "# generate a random positive definite matrix\n",
    "n = 10\n",
    "A = np.random.rand(n, n)\n",
    "A = A @ A.T\n",
    "plt.imshow(A)"
   ]
  },
  {
   "cell_type": "code",
   "execution_count": 29,
   "metadata": {},
   "outputs": [],
   "source": [
    "# compute the cholesky decomposition\n",
    "L = cholesky(A)"
   ]
  },
  {
   "cell_type": "code",
   "execution_count": 30,
   "metadata": {},
   "outputs": [
    {
     "data": {
      "text/plain": [
       "<matplotlib.image.AxesImage at 0x7ffda96c7d90>"
      ]
     },
     "execution_count": 30,
     "metadata": {},
     "output_type": "execute_result"
    },
    {
     "data": {
      "image/png": "[encoded data removed]",
      "text/plain": [
       "<Figure size 640x480 with 1 Axes>"
      ]
     },
     "metadata": {},
     "output_type": "display_data"
    }
   ],
   "source": [
    "diffs = A - L @ L.T\n",
    "# plot the difference between A and LL^T\n",
    "plt.imshow(diffs)"
   ]
  },
  {
   "cell_type": "code",
   "execution_count": 31,
   "metadata": {},
   "outputs": [
    {
     "name": "stdout",
     "output_type": "stream",
     "text": [
      "8.881784197001252e-16\n"
     ]
    }
   ],
   "source": [
    "# print the absolute difference (should be very small)\n",
    "print(np.max(np.abs(diffs)))"
   ]
  },
  {
   "cell_type": "code",
   "execution_count": 32,
   "metadata": {},
   "outputs": [
    {
     "name": "stdout",
     "output_type": "stream",
     "text": [
      "L:\n",
      "[[ 2.  0.  0.]\n",
      " [ 6.  1.  0.]\n",
      " [-8.  5.  3.]]\n",
      "\n",
      "L @ L.T:\n",
      "[[  4.  12. -16.]\n",
      " [ 12.  37. -43.]\n",
      " [-16. -43.  98.]]\n",
      "\n",
      "Original A:\n",
      "[[  4.  12. -16.]\n",
      " [ 12.  37. -43.]\n",
      " [-16. -43.  98.]]\n",
      "\n",
      "Difference:\n",
      "0.0\n"
     ]
    }
   ],
   "source": [
    "import numpy as np\n",
    "\n",
    "\n",
    "def cholesky(A):\n",
    "    n = A.shape[0]\n",
    "    L = np.zeros(A.shape)\n",
    "    for j in range(n):  # loop over columns\n",
    "        v_j_to_n = A[j:, j].copy()  # vector from j-th element to the end, size n-j\n",
    "        for k in range(j):\n",
    "            v_j_to_n -= L[j:, k] * L[j, k]\n",
    "        L[j, j] = np.sqrt(v_j_to_n[0])  # Diagonal element\n",
    "        L[j + 1 :, j] = v_j_to_n[1:] / L[j, j]  # Off-diagonal elements\n",
    "    return L\n",
    "\n",
    "\n",
    "# Test the function\n",
    "A = np.array([[4, 12, -16], [12, 37, -43], [-16, -43, 98]], dtype=float)\n",
    "L = cholesky(A)\n",
    "print(\"L:\")\n",
    "print(L)\n",
    "print(\"\\nL @ L.T:\")\n",
    "print(L @ L.T)\n",
    "print(\"\\nOriginal A:\")\n",
    "print(A)\n",
    "print(\"\\nDifference:\")\n",
    "print(np.abs(A - L @ L.T).max())"
   ]
  },
  {
   "cell_type": "code",
   "execution_count": 34,
   "metadata": {},
   "outputs": [
    {
     "data": {
      "text/plain": [
       "np.float64(0.0)"
      ]
     },
     "execution_count": 34,
     "metadata": {},
     "output_type": "execute_result"
    }
   ],
   "source": [
    "np.abs(A - L @ L.T).max()"
   ]
  },
  {
   "cell_type": "code",
   "execution_count": null,
   "metadata": {},
   "outputs": [],
   "source": []
  }
 ],
 "metadata": {
  "kernelspec": {
   "display_name": "analysis-plotting",
   "language": "python",
   "name": "python3"
  },
  "language_info": {
   "codemirror_mode": {
    "name": "ipython",
    "version": 3
   },
   "file_extension": ".py",
   "mimetype": "text/x-python",
   "name": "python",
   "nbconvert_exporter": "python",
   "pygments_lexer": "ipython3",
   "version": "3.9.19"
  }
 },
 "nbformat": 4,
 "nbformat_minor": 2
}
